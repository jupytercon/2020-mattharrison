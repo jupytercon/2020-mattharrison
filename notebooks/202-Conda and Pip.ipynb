{
 "cells": [
  {
   "cell_type": "markdown",
   "metadata": {
    "slideshow": {
     "slide_type": "notes"
    }
   },
   "source": [
    "# A Beginners Tour Through Virtual Environments and Conda Environments\n",
    "\n",
    "## Why Environments? (20 min)\n",
    "\n",
    "## Conda Walkthrough (60 min)\n",
    " * Installation (Please come with Conda installed)\n",
    " * Creating Environments\n",
    " * Installing Packages\n",
    " * Pining versions\n",
    " * Dealing with missing packages\n",
    " * Sharing requirements\n",
    "\n",
    "## Virtual Environment Walkthrough (60 min)\n",
    "\n",
    " * Installation\n",
    " * Creating Environments\n",
    " * Installing Packages\n",
    " * Pining versions\n",
    " * Dealing with missing packages\n",
    " * Sharing requirements\n",
    "\n",
    "## Compare and contrast (10 min)\n",
    "\n",
    "## Questions"
   ]
  },
  {
   "cell_type": "markdown",
   "metadata": {
    "slideshow": {
     "slide_type": "notes"
    }
   },
   "source": [
    "## Conda Cheatsheet\n",
    "\n",
    "**TLDR**\n",
    "\n",
    "On Windows easiest to start *Anaconda prompt*. Unix systems should have ``conda`` executable after installation.\n",
    "\n",
    "### Create Environment\n",
    "\n",
    "Create an environment named *jpconenv* with Python 3.6\n",
    "\n",
    "    conda create --name jpconenv python=3.6\n",
    "    \n",
    "Need to activate environment\n",
    "\n",
    "    conda activate jpconenv\n",
    "    \n",
    "### Installing Packages\n",
    "\n",
    "Install pandas package:\n",
    "\n",
    "    conda install pandas\n",
    "    \n",
    "Install pandas from *conda-forge* channel:\n",
    "\n",
    "    conda install pandas --channel conda-forge\n",
    "    \n",
    "### Pining Versions\n",
    "\n",
    "Install specific version of pandas:\n",
    "\n",
    "    conda install pandas=0.24\n",
    "    \n",
    "\n",
    "    \n",
    "### Dealing with Missing Packages\n",
    "\n",
    "\n",
    "* Search on conda-forge.org\n",
    "* Create a recipe https://conda-forge.org/docs/maintainer/adding_pkgs.html#\n",
    "* Create local/private channel https://docs.conda.io/projects/conda/en/latest/user-guide/tasks/create-custom-channels.html\n",
    "\n",
    "      mkdir -p /tmp/mychannel\n",
    "      conda build privatepackage\n",
    "      cp ~/anaconda/conda-bld/linux-64/privatepackage-0.1-py36_0.tar.bz2 /tmp/mychannel\n",
    "      conda index -c file://tmp/mychannel privatepackage=0.1\n",
    "      conda install -c file://tmp/mychannel privatepackage=0.1\n",
    "    \n",
    "* Use pip\n",
    "\n",
    "\n",
    "\n",
    "    \n",
    "### Sharing Environments\n",
    "\n",
    "Export a *spec list*:\n",
    "\n",
    "    conda list --explicit > spec-file.txt\n",
    "    \n",
    "Create identical environment:\n",
    "\n",
    "    conda create --name newenv --file spec-file.txt\n",
    "    \n",
    "Install packages:\n",
    "\n",
    "    conda env update --name newenv --file spec-file.txt\n",
    "\n",
    "    \n",
    "    \n",
    "\n",
    "\n"
   ]
  },
  {
   "cell_type": "markdown",
   "metadata": {
    "slideshow": {
     "slide_type": "notes"
    }
   },
   "source": [
    "## Pip Cheatsheet\n",
    "\n",
    "**TLDR**\n",
    "\n",
    "On Windows need to make sure that the ``PATH`` variable is set correctly so Command Prompt will find Python executable. If you install from Windows store, it works and you will have ``python3`` executable. If you install from python.org you will have to use ``python`` executable.\n",
    "\n",
    "### Create Virtual Environment\n",
    "\n",
    "Create a virtual environment named *jpconenv*:\n",
    "\n",
    "    python3 -m venv jpconenv\n",
    "    \n",
    "Need to activate environment. Here is UNIX version:\n",
    "\n",
    "    source jpconenv/bin/activate\n",
    "    \n",
    "Here is the Windows version:\n",
    "\n",
    "     jpconenv\\Scripts\\Activate\n",
    "    \n",
    "### Installing Packages\n",
    "\n",
    "Install pandas package:\n",
    "\n",
    "    pip install pandas\n",
    "    \n",
    "### Pining Versions\n",
    "\n",
    "Install specific version of pandas:\n",
    "\n",
    "    pip install pandas=0.24\n",
    "    \n",
    "\n",
    "    \n",
    "### Dealing with Missing Packages\n",
    "\n",
    "\n",
    "* Search on Python Package Index https://pypi.org\n",
    "* Install local package with ``setup.py`` file:\n",
    "\n",
    "      cd privatepackagedir\n",
    "      pip install .\n",
    "\n",
    "* Create local/private Pypi server https://pypi.org/project/pypiserver/#quickstart-installation-and-usage\n",
    " \n",
    "      pip install pypiserver\n",
    "      mkdir -p /tmp/mypackages\n",
    "      cp privatepackage-0.1-py36.tar.bz2 /tmp/mypackages\n",
    "      pypi-server -p 8080 /tmp/mypackages\n",
    "      pip install --extra-index-url http://localhost:8080 privatepackage\n",
    "\n",
    "    \n",
    "### Sharing Environments\n",
    "\n",
    "Export a *requirements file*:\n",
    "\n",
    "    pip freeze > req.txt\n",
    "    \n",
    "Create new virtual environment (see above)\n",
    "\n",
    "    \n",
    "Install packages:\n",
    "\n",
    "    pip install -r req.txt\n",
    "\n",
    "    \n",
    "    \n",
    "\n",
    "\n"
   ]
  },
  {
   "cell_type": "markdown",
   "metadata": {
    "slideshow": {
     "slide_type": "slide"
    }
   },
   "source": [
    "<img width=300 align='left' style=\"padding:30px\"  src='img/env.png'/>\n",
    "\n",
    "# A Beginner's Tour Through Virtual Environments and Conda Environments\n",
    "\n",
    "## Matt Harrison ``@__mharrison__``\n"
   ]
  },
  {
   "cell_type": "markdown",
   "metadata": {
    "slideshow": {
     "slide_type": "slide"
    }
   },
   "source": [
    "\n",
    "<img width=300 align='left' style=\"padding:30px\"  src='img/matt.png'/>\n",
    "\n",
    "## About Matt\n",
    "\n",
    "Corporate trainer and consultant using Python since 2000. Experience across Data Science, BI, Web, Open Source Stack Management, Search, Learning Management, Search, Lending.\n",
    "\n",
    "Author *Machine Learning Pocket Reference*, *Pandas 1.x Cookbook*,  *Illustrated Guide to Learning Python*, *Effective PyCharm*, and more.\n",
    "\n",
    "``@__mharrison__``\n",
    "\n",
    "\n",
    "\n",
    "\n",
    "\n",
    "\n",
    "\n",
    "\n",
    "\n",
    "\n",
    "\n",
    "\n",
    "\n"
   ]
  },
  {
   "cell_type": "markdown",
   "metadata": {
    "slideshow": {
     "slide_type": "slide"
    }
   },
   "source": [
    "\n",
    "<img width=300 align='left' style=\"padding:30px\" src='img/ms-logo-water.png'/>\n",
    "\n",
    "## MetaSnake\n",
    "    \n",
    "### Corporate training & Consulting\n",
    "\n",
    "* Python\n",
    "* Intermediate Python\n",
    "* Machine Learning\n",
    "* Pandas\n",
    "* Visualization\n",
    "\n",
    "\n",
    "\n",
    "\n",
    "\n"
   ]
  },
  {
   "cell_type": "markdown",
   "metadata": {
    "slideshow": {
     "slide_type": "slide"
    }
   },
   "source": [
    "## Outline\n",
    "* Conda\n",
    "* Pip\n",
    "* Pros/Cons\n",
    "* Labs\n",
    "\n",
    "Disclaimer my experience may be different than yours"
   ]
  },
  {
   "cell_type": "markdown",
   "metadata": {
    "slideshow": {
     "slide_type": "slide"
    }
   },
   "source": [
    "## Installation\n",
    "\n",
    "See *Setting up a Python Data Science Environment* https://www.metasnake.com/blog/pydata-dev.html"
   ]
  },
  {
   "cell_type": "markdown",
   "metadata": {
    "slideshow": {
     "slide_type": "slide"
    }
   },
   "source": [
    "<img width=400 align='left' style=\"padding:30px\"  src='img/envs.png'/>\n",
    " \n",
    " \n",
    "## Why Environments?\n",
    "\n",
    "* Reproducibility\n",
    "* Ease of use\n",
    "* Not to mess up system\n",
    "* Not to mess up other projects"
   ]
  },
  {
   "cell_type": "markdown",
   "metadata": {
    "slideshow": {
     "slide_type": "slide"
    }
   },
   "source": [
    "<img width=300 align='left' style=\"padding:30px\"  src='img/anaconda.png'/>\n",
    "\n",
    "# Anaconda"
   ]
  },
  {
   "cell_type": "markdown",
   "metadata": {
    "slideshow": {
     "slide_type": "slide"
    }
   },
   "source": [
    "<img width=300 align='left' style=\"padding:30px\"  src='img/cursor.png'/>\n",
    "\n",
    "## What is it?\n",
    "\n",
    "Traditionally getting scientific Python environment set up is a pain because it requires compiler suite for non-Python packages (C/C++/Fortran). Especially painful on Windows. \n",
    "\n",
    "Anaconda solves this by precompiling packages for Mac/Windows/Linux"
   ]
  },
  {
   "cell_type": "markdown",
   "metadata": {
    "slideshow": {
     "slide_type": "slide"
    }
   },
   "source": [
    "## Installation\n",
    "\n",
    "Windows: \n",
    "\n",
    "* Double-click installer\n",
    "* Launch \"Anaconda Prompt\"\n",
    "\n",
    "Mac/Linux: \n",
    "\n",
    "* Download installer and execute it in terminal:\n",
    "\n",
    "      bash Miniconda3-latest-MacOSE-x86_64.sh\n",
    "     \n",
    "* Restart Terminal     \n"
   ]
  },
  {
   "cell_type": "markdown",
   "metadata": {
    "slideshow": {
     "slide_type": "slide"
    }
   },
   "source": [
    "<img width=300 align='left' style=\"padding:30px\" src='img/desert.png'/>\n",
    "\n",
    "## Environment Process\n",
    "\n",
    "Note that Anaconda environments support more that just Python libraries (R, graphviz, ...).\n",
    "\n",
    "* Create environment\n",
    "* Activate environment\n",
    "* Work in environment\n",
    "\n"
   ]
  },
  {
   "cell_type": "markdown",
   "metadata": {
    "slideshow": {
     "slide_type": "slide"
    }
   },
   "source": [
    "## Creating Environments\n",
    "\n",
    "Run the command (from Anaconda Prompt on Windows or Terminal on UNIX):\n",
    "\n",
    "    conda create -n envname python=3.7\n",
    "\n",
    "Creates an environment named `envname` and with Python 3.7"
   ]
  },
  {
   "cell_type": "markdown",
   "metadata": {
    "slideshow": {
     "slide_type": "slide"
    }
   },
   "source": [
    "<img width=300 align='left' style=\"padding:30px\" src='img/question.png'/>\n",
    "\n",
    "## Getting Help\n",
    "\n",
    "Run the command:\n",
    "\n",
    "    conda create --help\n"
   ]
  },
  {
   "cell_type": "markdown",
   "metadata": {
    "lines_to_next_cell": 2,
    "slideshow": {
     "slide_type": "slide"
    }
   },
   "source": [
    "## Getting Help\n",
    "\n",
    "In general, run the command:\n",
    "\n",
    "    conda help\n"
   ]
  },
  {
   "cell_type": "markdown",
   "metadata": {
    "lines_to_next_cell": 2,
    "slideshow": {
     "slide_type": "slide"
    }
   },
   "source": [
    "<img width=300 align='left' style=\"padding:30px\"  src='img/list.png'/>\n",
    "\n",
    "## Listing Environments\n",
    "\n",
    "Run command:\n",
    "\n",
    "        $ conda env list\n",
    "        # conda environments:\n",
    "        #\n",
    "        base                  *  /home/matt/miniconda3\n",
    "        #      \n",
    "        mlpocketenv              /home/matt/miniconda3/envs/mlpocketenv"
   ]
  },
  {
   "cell_type": "markdown",
   "metadata": {
    "lines_to_next_cell": 2,
    "slideshow": {
     "slide_type": "slide"
    }
   },
   "source": [
    "<img width=400 align='left' style=\"padding:30px\"  src='img/comp.png'/>\n",
    "\n",
    "## Can't I Just Do This From A GUI?\n"
   ]
  },
  {
   "cell_type": "markdown",
   "metadata": {
    "slideshow": {
     "slide_type": "slide"
    }
   },
   "source": [
    "## Activate Environment\n",
    "\n",
    "Run command:\n",
    "\n",
    "      conda activate envname\n",
    "    \n"
   ]
  },
  {
   "cell_type": "markdown",
   "metadata": {
    "slideshow": {
     "slide_type": "slide"
    }
   },
   "source": [
    "<img width=400 align='left' style=\"padding:30px\" src='img/reward.png'/>\n",
    "\n",
    "## Installing Packages\n",
    "\n",
    "Run command:\n",
    "\n",
    "      conda install pandas\n",
    "    \n"
   ]
  },
  {
   "cell_type": "markdown",
   "metadata": {
    "slideshow": {
     "slide_type": "slide"
    }
   },
   "source": [
    "## Update Packages\n",
    "\n",
    "Run command:\n",
    "   \n",
    "     conda update pandas"
   ]
  },
  {
   "cell_type": "markdown",
   "metadata": {
    "lines_to_next_cell": 2,
    "slideshow": {
     "slide_type": "slide"
    }
   },
   "source": [
    "## Listing Packages\n",
    "\n",
    "Run command:\n",
    "   \n",
    "     conda list"
   ]
  },
  {
   "cell_type": "markdown",
   "metadata": {
    "slideshow": {
     "slide_type": "slide"
    }
   },
   "source": [
    "## Removing Packages\n",
    "\n",
    "Run command:\n",
    "   \n",
    "     conda remove pandas"
   ]
  },
  {
   "cell_type": "markdown",
   "metadata": {
    "lines_to_next_cell": 2,
    "slideshow": {
     "slide_type": "slide"
    }
   },
   "source": [
    "## Specify Version\n",
    "\n",
    "Run command:\n",
    "   \n",
    "     conda install pandas=1.0.1"
   ]
  },
  {
   "cell_type": "markdown",
   "metadata": {
    "lines_to_next_cell": 2,
    "slideshow": {
     "slide_type": "slide"
    }
   },
   "source": [
    "<img width=300 align='left' style=\"padding:30px\"  src='img/pin.png'/>\n",
    "\n",
    "## Pining Version\n",
    "\n",
    "Keep package at a specific version (during updates of other packages). Create file, ``~/anaconda/conda-meta/pinned``. Add the following:\n",
    "   \n",
    "     pandas ==1.0.1\n",
    "     seaborn 0.10.*"
   ]
  },
  {
   "cell_type": "markdown",
   "metadata": {
    "slideshow": {
     "slide_type": "slide"
    }
   },
   "source": [
    "### Dealing with Missing Packages\n",
    "\n",
    "\n",
    "* Search on conda-forge.org\n",
    "* Create a recipe https://conda-forge.org/docs/maintainer/adding_pkgs.html#\n",
    "* Create local/private channel https://docs.conda.io/projects/conda/en/latest/user-guide/tasks/create-custom-channels.html\n",
    "\n",
    "      mkdir -p /tmp/mychannel\n",
    "      conda build privatepackage\n",
    "      cp ~/anaconda/conda-bld/linux-64/privatepackage-0.1-py36_0.tar.bz2 /tmp/mychannel\n",
    "      conda index -c file://tmp/mychannel privatepackage=0.1\n",
    "      conda install -c file://tmp/mychannel privatepackage=0.1\n",
    "    \n",
    "* Use pip"
   ]
  },
  {
   "cell_type": "markdown",
   "metadata": {
    "slideshow": {
     "slide_type": "slide"
    }
   },
   "source": [
    "<img width=300 align='left' style=\"padding:30px\"  src='img/lift.png'/>\n",
    "\n",
    "## Skilift example\n",
    "\n",
    "* Using conda to build a new package\n",
    "\n",
    "\n",
    "    conda install conda-build\n",
    "\n",
    "* Checkout skilift https://github.com/mattharrison/skilift\n",
    "\n"
   ]
  },
  {
   "cell_type": "markdown",
   "metadata": {
    "slideshow": {
     "slide_type": "slide"
    }
   },
   "source": [
    "<img width=300 align='left' style=\"padding:30px\"  src='img/lift.png'/>\n",
    "\n",
    "## Skilift example (2)\n",
    "\n",
    "* Get sha for archive (works in Anaconda Prompt in Windows):\n",
    "\n",
    "     curl -sL https://github.com/mattharrison/skilift/archive/master.zip | openssl sha256\n",
    "\n",
    "\n"
   ]
  },
  {
   "cell_type": "markdown",
   "metadata": {
    "slideshow": {
     "slide_type": "slide"
    }
   },
   "source": [
    "<img width=300 align='left' style=\"padding:30px\"  src='img/lift.png'/>\n",
    "\n",
    "## Skilift example (3)\n",
    "\n",
    "\n",
    "* add ``meta.yaml``:\n",
    " \n",
    "````\n",
    " \n",
    "{% set version = \"0.1.0\" %}\n",
    "\n",
    "package:\n",
    "  name: skilift\n",
    "  version: {{ version }}\n",
    "\n",
    "source:\n",
    "  url: https://github.com/mattharrison/skilift/archive/master.zip\n",
    "  sha256: 80fb6d7a2df7f14a58a49984581629680eadda935f653361ce9072628b5ab47d\n",
    "\n",
    "build:\n",
    "  noarch: python\n",
    "  number: 0\n",
    "  script: python -m pip install --no-deps --ignore-installed .\n",
    "\n",
    "requirements:\n",
    "  host:\n",
    "    - python\n",
    "    - pip\n",
    "  run:\n",
    "    - python\n",
    "\n",
    "about:\n",
    "  home: https://github.com/mattharrison/skilift\n",
    "  license: MIT\n",
    " summary: 'Simulate skilift'\n",
    "  description: |\n",
    "    This module simulates skilifts. Useful for showing testing\n",
    "  dev_url: https://github.com/mattharrison/skilift\n",
    "\n",
    "```` \n",
    "\n"
   ]
  },
  {
   "cell_type": "markdown",
   "metadata": {
    "slideshow": {
     "slide_type": "slide"
    }
   },
   "source": [
    "<img width=300 align='left' style=\"padding:30px\"  src='img/lift.png'/>\n",
    "\n",
    "## Skilift example (4)\n",
    "\n",
    "\n",
    "\n",
    "* Create ``setup.py``:\n",
    "\n",
    "````\n",
    "from setuptools import setup\n",
    "\n",
    "setup(name='skilift',\n",
    "   version='0.1.0',\n",
    "   description='Simulate skilift',\n",
    "   url='http://github.com/mattharrison/skilift',\n",
    "   author='Matt Harrison',\n",
    "   license='MIT',\n",
    "   py_modules=['skilift'],\n",
    "   zip_safe=False)\n",
    "````\n"
   ]
  },
  {
   "cell_type": "markdown",
   "metadata": {
    "slideshow": {
     "slide_type": "slide"
    }
   },
   "source": [
    "<img width=300 align='left' style=\"padding:30px\"  src='img/lift.png'/>\n",
    "\n",
    "## Skilift example (5)\n",
    "\n",
    "* Build/install:\n",
    "\n",
    "````\n",
    "# # cd ..\n",
    "conda build skilift\n",
    "conda install --offline ~/miniconda3/envs/mlpocketenv/conda-bld/noarch/skilift-0.1.0-py_0.tar.bz2 \n",
    "````"
   ]
  },
  {
   "cell_type": "markdown",
   "metadata": {
    "slideshow": {
     "slide_type": "slide"
    }
   },
   "source": [
    "<img width=300 align='left' style=\"padding:30px\"  src='img/lift.png'/>\n",
    "\n",
    "## Skilift example - Using Pip\n",
    "\n",
    "\n",
    "With pip and ``setup.py``\n",
    "\n",
    "    cd skilift_dir\n",
    "    pip install ."
   ]
  },
  {
   "cell_type": "markdown",
   "metadata": {
    "lines_to_next_cell": 2,
    "slideshow": {
     "slide_type": "slide"
    }
   },
   "source": [
    "### Sharing Environments\n",
    "\n",
    "Export a *spec list*:\n",
    "\n",
    "    conda env export > spec-file.yml\n",
    "    \n",
    "Create identical environment:\n",
    "\n",
    "    conda create --name newenv \n",
    "    \n",
    "Install packages:\n",
    "\n",
    "    conda env update --name newenv --file spec-file.yml\n",
    "\n",
    "(Had issues sharing spec-file from Linux to Windows. Might need to hand edit ``spec-file.yml`` to remove versions)"
   ]
  },
  {
   "cell_type": "markdown",
   "metadata": {
    "slideshow": {
     "slide_type": "slide"
    }
   },
   "source": [
    "## Lab\n",
    "\n",
    "Creating an environment to run chapter 3 from *Machine Learning Pocket Reference* https://github.com/mattharrison/ml_pocket_reference"
   ]
  },
  {
   "cell_type": "markdown",
   "metadata": {
    "slideshow": {
     "slide_type": "notes"
    }
   },
   "source": [
    "## Lab Solution\n",
    "\n",
    "### Create environment\n",
    "\n",
    "    conda create -n mlpocketenv python=3.7\n",
    "    conda activate mlpocketenv\n",
    "\n",
    "### Install Packages\n",
    "\n",
    "First Attempt:\n",
    "\n",
    "    conda install numpy sklearn mlxtend xgboost janitor pandas_profiling yellowbrick pandas matplotlib notebook\n",
    "\n",
    "Result:\n",
    "\n",
    "    PackagesNotFoundError: The following packages are not available from current channels:\n",
    "\n",
    "      - xgboost\n",
    "      - janitor\n",
    "      - yellowbrick\n",
    "      - mlxtend\n",
    "      - pandas_profiling\n",
    "      - sklearn\n",
    "      \n",
    "Try and find package:      \n",
    "  \n",
    "    conda search xgboost\n",
    "\n",
    "Package name is ``py-xgboost``\n",
    "\n",
    "    conda search janitor \n",
    "\n",
    "not found\n",
    "\n",
    "docs say on conda-forge\n",
    "\n",
    "New command:\n",
    "\n",
    "    conda install notebook numpy scikit-learn mlxtend py-xgboost pyjanitor pandas-profiling yellowbrick pandas matplotlib -c conda-forge "
   ]
  },
  {
   "cell_type": "markdown",
   "metadata": {
    "slideshow": {
     "slide_type": "slide"
    }
   },
   "source": [
    "<img width=300 align='left' style=\"padding:30px\"  src='img/python.png'/>\n",
    "\n",
    "# Pip "
   ]
  },
  {
   "cell_type": "markdown",
   "metadata": {
    "slideshow": {
     "slide_type": "slide"
    }
   },
   "source": [
    "## What is it?\n",
    "\n",
    "Pip installs Python (pip) is a tool that ships with Python. It tries to search on the Python Package Index (http://pypi.org) for a package and then install it into the Python runtime that invoked it. Due to the runtime installation, it is best to use a *Virtual Environment* when running the command.\n",
    "\n",
    "A *virtual environment* can be created using the ``venv`` tool (also shipped with Python).\n"
   ]
  },
  {
   "cell_type": "markdown",
   "metadata": {
    "slideshow": {
     "slide_type": "slide"
    }
   },
   "source": [
    "## Installation\n",
    "\n",
    "If you installed Python 3, you have ``pip``. \n",
    "\n",
    "On Windows, need to make sure that you can run ``python.exe`` from the Command Prompt:\n",
    "\n",
    "* If you installed from Microsoft Store, you should be good\n",
    "* If you installed from python.org, you need to check \"Add Python to PATH\" checkbox \n"
   ]
  },
  {
   "cell_type": "markdown",
   "metadata": {
    "slideshow": {
     "slide_type": "slide"
    }
   },
   "source": [
    "<img width=300 align='left' style=\"padding:30px\" src='img/forest.png'/>\n",
    "\n",
    "## Environment Process\n",
    "\n",
    "* Create a Virtual Environment\n",
    "* Activate Virtual Environment\n",
    "* Work (use ``pip``) in Virtual Environment"
   ]
  },
  {
   "cell_type": "markdown",
   "metadata": {
    "slideshow": {
     "slide_type": "slide"
    }
   },
   "source": [
    "## Creating Environments\n",
    "\n",
    "Run from terminal or command prompt (may need to use ``python`` on Windows):\n",
    "\n",
    "    python3 -m venv jpconenv\n",
    "    \n",
    "    "
   ]
  },
  {
   "cell_type": "markdown",
   "metadata": {
    "slideshow": {
     "slide_type": "slide"
    }
   },
   "source": [
    "## Activate Environment\n",
    "\n",
    "On Unix (Linux/Mac) run:\n",
    "\n",
    "     source jpconenv/bin/activate\n",
    "     \n",
    "On Windows run:     \n",
    "\n",
    "     jpconenv\\Scripts\\Activate\n",
    "     \n",
    "    "
   ]
  },
  {
   "cell_type": "markdown",
   "metadata": {
    "slideshow": {
     "slide_type": "slide"
    }
   },
   "source": [
    "<img width=300 align='left' style=\"padding:30px\" src='img/reward.png'/>\n",
    "\n",
    "## Installing Packages\n",
    "\n",
    "Needed to fix janitor name\n",
    "\n",
    "      pip install numpy sklearn mlxtend xgboost pyjanitor pandas_profiling yellowbrick pandas matplotlib notebook xlrd"
   ]
  },
  {
   "cell_type": "markdown",
   "metadata": {
    "slideshow": {
     "slide_type": "slide"
    }
   },
   "source": [
    "## Update Package\n",
    "\n",
    "      pip install -U pandas\n",
    "      \n",
    "      "
   ]
  },
  {
   "cell_type": "markdown",
   "metadata": {
    "slideshow": {
     "slide_type": "slide"
    }
   },
   "source": [
    "<img width=300 align='left' style=\"padding:30px\"  src='img/list.png'/>\n",
    "\n",
    "## Listing Packages\n",
    "\n",
    "     pip freeze"
   ]
  },
  {
   "cell_type": "markdown",
   "metadata": {
    "slideshow": {
     "slide_type": "slide"
    }
   },
   "source": [
    "## Uninstall Package\n",
    "\n",
    "     pip uninstall pandas"
   ]
  },
  {
   "cell_type": "markdown",
   "metadata": {
    "slideshow": {
     "slide_type": "slide"
    }
   },
   "source": [
    "## Specify Version\n",
    "\n",
    "     pip install pandas==1.0.0"
   ]
  },
  {
   "cell_type": "markdown",
   "metadata": {
    "slideshow": {
     "slide_type": "slide"
    }
   },
   "source": [
    "<img width=300 align='left' style=\"padding:30px\"  src='img/pin.png'/>\n",
    "\n",
    "## Pining Version\n",
    "\n",
    "Make a ``requirements.txt`` file (can use ``pip freeze > requirements.txt``). Then run:\n",
    "\n",
    "      pip install -r requirements.txt"
   ]
  },
  {
   "cell_type": "markdown",
   "metadata": {
    "slideshow": {
     "slide_type": "slide"
    }
   },
   "source": [
    "<img width=300 align='left' style=\"padding:30px\" src='img/search.png'/>\n",
    "\n",
    "## Dealing with Missing Packages\n",
    "\n",
    "* Search on pypi.org\n",
    "* Add local library\n",
    "  * Add a ``setup.py`` file\n",
    "  * ``cd library_dir``\n",
    "  * ``pip install .``\n",
    "\n"
   ]
  },
  {
   "cell_type": "markdown",
   "metadata": {
    "slideshow": {
     "slide_type": "slide"
    }
   },
   "source": [
    "<img width=300 align='left' style=\"padding:30px\"  src='img/lift.png'/>\n",
    "\n",
    "## Skilift Example\n",
    "\n",
    "* Checkout skilift https://github.com/mattharrison/skilift\n",
    "\n",
    "* Create ``setup.py``:\n",
    "\n",
    "\n",
    "      from setuptools import setup\n",
    "\n",
    "      setup(name='skilift',\n",
    "            version='0.1.0',\n",
    "            description='Simulate skilift',\n",
    "            url='http://github.com/mattharrison/skilift',\n",
    "            author='Matt Harrison',\n",
    "            license='MIT',\n",
    "            py_modules=['skilift'],\n",
    "            zip_safe=False)\n",
    "  \n"
   ]
  },
  {
   "cell_type": "markdown",
   "metadata": {
    "slideshow": {
     "slide_type": "slide"
    }
   },
   "source": [
    "<img width=300 align='left' style=\"padding:30px\"  src='img/lift.png'/>\n",
    "\n",
    "## Skilift Example (2)\n",
    "  \n",
    " * With pip and ``setup.py``\n",
    "   \n",
    "       cd skilift_dir\n",
    "       pip install ."
   ]
  },
  {
   "cell_type": "markdown",
   "metadata": {
    "slideshow": {
     "slide_type": "slide"
    }
   },
   "source": [
    "## Sharing Environments\n",
    "\n",
    "Virtual environments are not meant to be shared (ie I don't zip up a directory and send it to you), but easily created.\n",
    "\n",
    "Export files:\n",
    "\n",
    "    pip freeze > reqs.txt\n",
    "    \n",
    "On another machine:\n",
    "\n",
    "* Create/activate virtual environment\n",
    "* ``pip install -r reqs.txt``"
   ]
  },
  {
   "cell_type": "markdown",
   "metadata": {
    "slideshow": {
     "slide_type": "slide"
    }
   },
   "source": [
    "## Lab\n",
    "\n",
    "Creating an environment to run chapter 3 from *Machine Learning Pocket Reference* https://github.com/mattharrison/ml_pocket_reference"
   ]
  },
  {
   "cell_type": "markdown",
   "metadata": {
    "slideshow": {
     "slide_type": "notes"
    }
   },
   "source": [
    "## Lab Solution\n",
    "\n",
    "### Create environment\n",
    "\n",
    "    python3 -m venv mlpocketenv \n",
    "    source mlpocketenv/bin/activate\n",
    "\n",
    "### Install Packages\n",
    "\n",
    "\n",
    "    pip install numpy sklearn mlxtend xgboost janitor pandas_profiling yellowbrick pandas matplotlib notebook\n",
    "\n"
   ]
  },
  {
   "cell_type": "markdown",
   "metadata": {
    "slideshow": {
     "slide_type": "slide"
    }
   },
   "source": [
    "<img width=300 align='left' style=\"padding:30px\"  src='img/thumbup.png'/>\n",
    "\n",
    "## Compare / Contrast\n",
    "\n",
    "### Pip\n",
    "* Comes with Python\n",
    "* Faster\n",
    "* More libraries available\n",
    "\n",
    "### Conda\n",
    "* Manage Python version\n",
    "* Manage non-Python libraries\n",
    "* Has optimized libraries\n",
    "* Better dependency resolution\n",
    "* No Windows compiler required\n",
    "* Sharing is harder\n",
    "* Less libraries but can use ``pip``\n",
    "\n"
   ]
  },
  {
   "cell_type": "markdown",
   "metadata": {
    "slideshow": {
     "slide_type": "slide"
    }
   },
   "source": [
    "<img width=300 align='left' style=\"padding:30px\"  src='img/hammer.png'/>\n",
    "\n",
    "## Other Options\n",
    "\n",
    "* Lots of tooling around pip\n",
    "* \"Poetry\" - new tool for dependency management and packaging\n",
    "* Cloud environments: AWS, Colab\n",
    "* Docker"
   ]
  },
  {
   "cell_type": "markdown",
   "metadata": {
    "slideshow": {
     "slide_type": "slide"
    }
   },
   "source": [
    "\n",
    "<img width=300 align='left' style=\"padding:30px\"  src='img/matt.png'/>\n",
    "\n",
    "## Thanks\n",
    "\n",
    "Reach out on twitter, ``@__mharrison__``, or LinkedIn.\n",
    "\n",
    "\n",
    "\n",
    "\n",
    "\n",
    "\n",
    "\n",
    "\n",
    "\n",
    "\n",
    "\n",
    "\n",
    "\n"
   ]
  }
 ],
 "metadata": {
  "celltoolbar": "Slideshow",
  "jupytext": {
   "formats": "ipynb,py:light"
  },
  "kernelspec": {
   "display_name": "Python 3",
   "language": "python",
   "name": "python3"
  },
  "language_info": {
   "codemirror_mode": {
    "name": "ipython",
    "version": 3
   },
   "file_extension": ".py",
   "mimetype": "text/x-python",
   "name": "python",
   "nbconvert_exporter": "python",
   "pygments_lexer": "ipython3",
   "version": "3.6.9"
  }
 },
 "nbformat": 4,
 "nbformat_minor": 4
}
